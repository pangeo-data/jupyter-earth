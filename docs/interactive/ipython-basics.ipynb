{
 "cells": [
  {
   "cell_type": "markdown",
   "id": "a6e39e71-8931-4189-a4c8-2c26b7bd13ba",
   "metadata": {},
   "source": [
    "# IPython basics: beyond plain Python\n",
    "\n",
    "This short notebook will give you a quick taste of some of IPython's capabilities. IPython is the default \"kernel\" for most Jupyter installations (the kernel is the process that executes the code you type into notebook cells, and it's typically based on a single programming language). \n",
    "\n",
    "IPython started its life in 2001 as a terminal-based application that offered enhancements over the default Python interactive prompt. You can still use it that way, but here we'll use it through the notebook environment in JupyterLab.\n",
    "\n",
    "The focus of IPython is on your Interactive experience, and its features are tailored to the typical workflow of everyday scientific computation and data analysis. In a nutshell, IPython is an interactive Python prompt that:\n",
    "\n",
    "* Starts by being a strict superset of Python: any valid Python code should behave similarly, at most returning cosmetically improved representations of information, but not different results.\n",
    "\n",
    "* Offers features to make it easy to run small code fragments (typed directly or as external scripts with the `%run` command) and iterate on their results. Variables from execution stay defined in the kernel and you can incrementally build the state of your analysis.\n",
    "\n",
    "* Facilitates exploration of your Python environment with the `?` operator and a powerful and extensible tab-completion system.\n",
    "\n",
    "* Provides direct access to the underlying operating system via a syntax that's not valid Python but is convenient to type: `!cmd arg1 arg2...` is executed by the underlying OS instead of as Python.\n",
    "\n",
    "* Provides an extensible system of special commands known as \"magics,\" that can perform all manner of transformations on their input, letting you do anything with user input ranging from defining one-off aliases for common operations, to blending multiple programming languages in a single session. Magic commands are marked by one or two `%` characters at their start.\n",
    "\n",
    "This notebook is a small introduction to the features of IPython. Our [IPython in depth \n",
    "tutorial](https://github.com/ipython/ipython-in-depth) contains many more details on these topics and much more."
   ]
  },
  {
   "cell_type": "markdown",
   "id": "5763bf94-3e09-482c-8424-85266748d6ce",
   "metadata": {},
   "source": [
    "## First things first: running code, getting help\n",
    "\n",
    "In the notebook, to run a cell of code, hit `Shift-Enter`. This executes the cell and puts the cursor in the next cell below, or makes a new one if you are at the end.  Alternately, you can use:\n",
    "    \n",
    "- `Alt-Enter` to force the creation of a new cell unconditionally (useful when inserting new content in the middle of an existing notebook).\n",
    "- `Control-Enter` executes the cell and keeps the cursor in the same cell, useful for quick experimentation of snippets that you don't need to keep permanently."
   ]
  },
  {
   "cell_type": "markdown",
   "id": "8718141d-7169-4e62-94e0-26e49a2593eb",
   "metadata": {},
   "source": [
    "## Discovering what you need within IPython itself\n",
    "\n",
    "IPython tries to make it easy for you to discover things about all your Python tools, objects, variables and libraries (including IPython itself, obviously) with a few keystrokes, and while staying focused on the task at hand. The first key you will want to use is `?`, which can be summoned by itself:"
   ]
  },
  {
   "cell_type": "markdown",
   "id": "e97c3aea-db54-4590-970a-21608862c361",
   "metadata": {},
   "source": [
    "### Asking for help with `?` "
   ]
  },
  {
   "cell_type": "code",
   "execution_count": null,
   "id": "781f2bd6-95fe-4939-ab29-de57b9a6575c",
   "metadata": {},
   "outputs": [],
   "source": [
    "?"
   ]
  },
  {
   "cell_type": "markdown",
   "id": "93d225ab-df4c-44aa-a0d4-fd1e00d174cb",
   "metadata": {
    "slideshow": {
     "slide_type": "slide"
    }
   },
   "source": [
    "Typing `object_name?` will print all sorts of details about any object, including docstrings, function definition lines (for call arguments) and constructor details for classes."
   ]
  },
  {
   "cell_type": "code",
   "execution_count": 27,
   "id": "d82ab08f-96d6-4954-a127-6680e2aa5a24",
   "metadata": {},
   "outputs": [
    {
     "data": {
      "text/plain": [
       "\u001b[0;31mSignature:\u001b[0m\n",
       "\u001b[0mcollections\u001b[0m\u001b[0;34m.\u001b[0m\u001b[0mnamedtuple\u001b[0m\u001b[0;34m(\u001b[0m\u001b[0;34m\u001b[0m\n",
       "\u001b[0;34m\u001b[0m    \u001b[0mtypename\u001b[0m\u001b[0;34m,\u001b[0m\u001b[0;34m\u001b[0m\n",
       "\u001b[0;34m\u001b[0m    \u001b[0mfield_names\u001b[0m\u001b[0;34m,\u001b[0m\u001b[0;34m\u001b[0m\n",
       "\u001b[0;34m\u001b[0m    \u001b[0;34m*\u001b[0m\u001b[0;34m,\u001b[0m\u001b[0;34m\u001b[0m\n",
       "\u001b[0;34m\u001b[0m    \u001b[0mrename\u001b[0m\u001b[0;34m=\u001b[0m\u001b[0;32mFalse\u001b[0m\u001b[0;34m,\u001b[0m\u001b[0;34m\u001b[0m\n",
       "\u001b[0;34m\u001b[0m    \u001b[0mdefaults\u001b[0m\u001b[0;34m=\u001b[0m\u001b[0;32mNone\u001b[0m\u001b[0;34m,\u001b[0m\u001b[0;34m\u001b[0m\n",
       "\u001b[0;34m\u001b[0m    \u001b[0mmodule\u001b[0m\u001b[0;34m=\u001b[0m\u001b[0;32mNone\u001b[0m\u001b[0;34m,\u001b[0m\u001b[0;34m\u001b[0m\n",
       "\u001b[0;34m\u001b[0m\u001b[0;34m)\u001b[0m\u001b[0;34m\u001b[0m\u001b[0;34m\u001b[0m\u001b[0m\n",
       "\u001b[0;31mDocstring:\u001b[0m\n",
       "Returns a new subclass of tuple with named fields.\n",
       "\n",
       ">>> Point = namedtuple('Point', ['x', 'y'])\n",
       ">>> Point.__doc__                   # docstring for the new class\n",
       "'Point(x, y)'\n",
       ">>> p = Point(11, y=22)             # instantiate with positional args or keywords\n",
       ">>> p[0] + p[1]                     # indexable like a plain tuple\n",
       "33\n",
       ">>> x, y = p                        # unpack like a regular tuple\n",
       ">>> x, y\n",
       "(11, 22)\n",
       ">>> p.x + p.y                       # fields also accessible by name\n",
       "33\n",
       ">>> d = p._asdict()                 # convert to a dictionary\n",
       ">>> d['x']\n",
       "11\n",
       ">>> Point(**d)                      # convert from a dictionary\n",
       "Point(x=11, y=22)\n",
       ">>> p._replace(x=100)               # _replace() is like str.replace() but targets named fields\n",
       "Point(x=100, y=22)\n",
       "\u001b[0;31mFile:\u001b[0m      ~/local/conda/lib/python3.9/collections/__init__.py\n",
       "\u001b[0;31mType:\u001b[0m      function\n"
      ]
     },
     "metadata": {},
     "output_type": "display_data"
    }
   ],
   "source": [
    "import collections\n",
    "collections.namedtuple?"
   ]
  },
  {
   "cell_type": "markdown",
   "id": "08a3efed-8adc-4a67-b597-dc1f79692988",
   "metadata": {},
   "source": [
    "If you use _two_ `??` characters, IPython will attempt to dig deeper into the object and show you its source code, if available:"
   ]
  },
  {
   "cell_type": "code",
   "execution_count": 29,
   "id": "0774bd7e-a2d2-4a22-b307-6796a5fe8541",
   "metadata": {},
   "outputs": [
    {
     "data": {
      "text/plain": [
       "\u001b[0;31mSignature:\u001b[0m \u001b[0mcollections\u001b[0m\u001b[0;34m.\u001b[0m\u001b[0mCounter\u001b[0m\u001b[0;34m.\u001b[0m\u001b[0mmost_common\u001b[0m\u001b[0;34m(\u001b[0m\u001b[0mself\u001b[0m\u001b[0;34m,\u001b[0m \u001b[0mn\u001b[0m\u001b[0;34m=\u001b[0m\u001b[0;32mNone\u001b[0m\u001b[0;34m)\u001b[0m\u001b[0;34m\u001b[0m\u001b[0;34m\u001b[0m\u001b[0m\n",
       "\u001b[0;31mSource:\u001b[0m   \n",
       "    \u001b[0;32mdef\u001b[0m \u001b[0mmost_common\u001b[0m\u001b[0;34m(\u001b[0m\u001b[0mself\u001b[0m\u001b[0;34m,\u001b[0m \u001b[0mn\u001b[0m\u001b[0;34m=\u001b[0m\u001b[0;32mNone\u001b[0m\u001b[0;34m)\u001b[0m\u001b[0;34m:\u001b[0m\u001b[0;34m\u001b[0m\n",
       "\u001b[0;34m\u001b[0m        \u001b[0;34m'''List the n most common elements and their counts from the most\u001b[0m\n",
       "\u001b[0;34m        common to the least.  If n is None, then list all element counts.\u001b[0m\n",
       "\u001b[0;34m\u001b[0m\n",
       "\u001b[0;34m        >>> Counter('abracadabra').most_common(3)\u001b[0m\n",
       "\u001b[0;34m        [('a', 5), ('b', 2), ('r', 2)]\u001b[0m\n",
       "\u001b[0;34m\u001b[0m\n",
       "\u001b[0;34m        '''\u001b[0m\u001b[0;34m\u001b[0m\n",
       "\u001b[0;34m\u001b[0m        \u001b[0;31m# Emulate Bag.sortedByCount from Smalltalk\u001b[0m\u001b[0;34m\u001b[0m\n",
       "\u001b[0;34m\u001b[0m        \u001b[0;32mif\u001b[0m \u001b[0mn\u001b[0m \u001b[0;32mis\u001b[0m \u001b[0;32mNone\u001b[0m\u001b[0;34m:\u001b[0m\u001b[0;34m\u001b[0m\n",
       "\u001b[0;34m\u001b[0m            \u001b[0;32mreturn\u001b[0m \u001b[0msorted\u001b[0m\u001b[0;34m(\u001b[0m\u001b[0mself\u001b[0m\u001b[0;34m.\u001b[0m\u001b[0mitems\u001b[0m\u001b[0;34m(\u001b[0m\u001b[0;34m)\u001b[0m\u001b[0;34m,\u001b[0m \u001b[0mkey\u001b[0m\u001b[0;34m=\u001b[0m\u001b[0m_itemgetter\u001b[0m\u001b[0;34m(\u001b[0m\u001b[0;36m1\u001b[0m\u001b[0;34m)\u001b[0m\u001b[0;34m,\u001b[0m \u001b[0mreverse\u001b[0m\u001b[0;34m=\u001b[0m\u001b[0;32mTrue\u001b[0m\u001b[0;34m)\u001b[0m\u001b[0;34m\u001b[0m\n",
       "\u001b[0;34m\u001b[0m        \u001b[0;32mreturn\u001b[0m \u001b[0m_heapq\u001b[0m\u001b[0;34m.\u001b[0m\u001b[0mnlargest\u001b[0m\u001b[0;34m(\u001b[0m\u001b[0mn\u001b[0m\u001b[0;34m,\u001b[0m \u001b[0mself\u001b[0m\u001b[0;34m.\u001b[0m\u001b[0mitems\u001b[0m\u001b[0;34m(\u001b[0m\u001b[0;34m)\u001b[0m\u001b[0;34m,\u001b[0m \u001b[0mkey\u001b[0m\u001b[0;34m=\u001b[0m\u001b[0m_itemgetter\u001b[0m\u001b[0;34m(\u001b[0m\u001b[0;36m1\u001b[0m\u001b[0;34m)\u001b[0m\u001b[0;34m)\u001b[0m\u001b[0;34m\u001b[0m\u001b[0;34m\u001b[0m\u001b[0m\n",
       "\u001b[0;31mFile:\u001b[0m      ~/local/conda/lib/python3.9/collections/__init__.py\n",
       "\u001b[0;31mType:\u001b[0m      function\n"
      ]
     },
     "metadata": {},
     "output_type": "display_data"
    }
   ],
   "source": [
    "collections.Counter.most_common??"
   ]
  },
  {
   "cell_type": "markdown",
   "id": "9f66af85-e0a7-4382-ae1a-39e011d9606c",
   "metadata": {},
   "source": [
    "The `?` character can also be used in conjunction with a shell-like wildcard `*` as a _search_ tool to find names that match a substring in your variables (or the namespace of any library or object):"
   ]
  },
  {
   "cell_type": "code",
   "execution_count": 30,
   "id": "ff553ca8-d749-4383-88db-e42d1ffaddb1",
   "metadata": {},
   "outputs": [
    {
     "data": {
      "text/plain": [
       "FloatingPointError\n",
       "breakpoint\n",
       "int\n",
       "print"
      ]
     },
     "metadata": {},
     "output_type": "display_data"
    }
   ],
   "source": [
    "*int*?"
   ]
  },
  {
   "cell_type": "markdown",
   "id": "cbb312be-e6d5-4560-8147-30c561aff24a",
   "metadata": {
    "slideshow": {
     "slide_type": "slide"
    }
   },
   "source": [
    "### Tab completion"
   ]
  },
  {
   "cell_type": "markdown",
   "id": "66968492-08d5-4c73-8e63-60ee68c9df33",
   "metadata": {},
   "source": [
    "Tab completion, especially for attributes, is a convenient way to explore the structure of any object you’re dealing with. Simply type `object_name.<TAB>` to view the object’s attributes. Besides Python objects and keywords, tab completion also works on file and directory names."
   ]
  },
  {
   "cell_type": "code",
   "execution_count": null,
   "id": "621a3461-9454-4fe3-afd3-ac25bbe756b9",
   "metadata": {},
   "outputs": [],
   "source": [
    "collections."
   ]
  },
  {
   "cell_type": "markdown",
   "id": "dea4d6bd-c9bd-433e-9db4-69d86a897de2",
   "metadata": {
    "slideshow": {
     "slide_type": "slide"
    }
   },
   "source": [
    "Before we move on, this command (whose special `%` syntax we explain below) gives you access to an IPython quick reference card:"
   ]
  },
  {
   "cell_type": "code",
   "execution_count": null,
   "id": "a605dfb1-bb6c-45fe-9552-30680e89d463",
   "metadata": {},
   "outputs": [],
   "source": [
    "%quickref"
   ]
  },
  {
   "cell_type": "markdown",
   "id": "6bcb7f32-1975-4bfc-97c4-000cb52d0e18",
   "metadata": {
    "slideshow": {
     "slide_type": "slide"
    }
   },
   "source": [
    "## Accessing the underlying operating system\n",
    "\n",
    "Any text prepended with a `!` is sent directly to the underlying OS:"
   ]
  },
  {
   "cell_type": "code",
   "execution_count": 1,
   "id": "212b208c-633d-4fbe-87b2-8cf9e3d54fc5",
   "metadata": {},
   "outputs": [
    {
     "name": "stdout",
     "output_type": "stream",
     "text": [
      "/Users/fperez/research/jupytearth/jupyter-earth/docs/interactive\n"
     ]
    }
   ],
   "source": [
    "!pwd"
   ]
  },
  {
   "cell_type": "markdown",
   "id": "2cbf04ae-ad98-4912-a9d4-5b2318551b43",
   "metadata": {},
   "source": [
    "and this syntax can be used in assignments, conveniently capturing command output into a Python variable you can then process further:"
   ]
  },
  {
   "cell_type": "code",
   "execution_count": 2,
   "id": "edcff7c0-98a8-4333-8b51-bac6a742ef5a",
   "metadata": {},
   "outputs": [
    {
     "name": "stdout",
     "output_type": "stream",
     "text": [
      "My current directory's files:\n",
      "['ipython-beyond-python.ipynb']\n"
     ]
    }
   ],
   "source": [
    "files = !ls\n",
    "print(\"My current directory's files:\")\n",
    "print(files)"
   ]
  },
  {
   "cell_type": "markdown",
   "id": "b5ee7ab8-ba7c-44b2-85e4-eead19bd8955",
   "metadata": {},
   "source": [
    "Conversely, Python variables can be expanded when calling system commands. For simple values, `$var` expands the variable into its text form:"
   ]
  },
  {
   "cell_type": "code",
   "execution_count": 3,
   "id": "d30a9d53-85cf-4922-8589-b2a051d1697e",
   "metadata": {},
   "outputs": [
    {
     "name": "stdout",
     "output_type": "stream",
     "text": [
      "[ipython-beyond-python.ipynb]\n"
     ]
    }
   ],
   "source": [
    "!echo $files"
   ]
  },
  {
   "cell_type": "markdown",
   "id": "1e542d9c-44d4-44f5-9aa3-f79e8496bc5d",
   "metadata": {},
   "source": [
    "and more complex expressions can be captured with `{expr}`:"
   ]
  },
  {
   "cell_type": "code",
   "execution_count": 4,
   "id": "6192c722-3eb8-40fe-9c96-b224ee9ed61e",
   "metadata": {},
   "outputs": [
    {
     "name": "stdout",
     "output_type": "stream",
     "text": [
      "IPYTHON-BEYOND-PYTHON.IPYNB\n"
     ]
    }
   ],
   "source": [
    "!echo {files[0].upper()}"
   ]
  },
  {
   "cell_type": "markdown",
   "id": "a56939ba-e7de-4bef-a19a-0a6b91cf5e97",
   "metadata": {},
   "source": [
    "Note that all this is available even in multiline blocks. While not as portable as pure Python code to do the same (it will only run in IPython and not as a regular Python script), it can be an extremely convenient way to weave together messy scripting logic that is quite common in data analysis activities:"
   ]
  },
  {
   "cell_type": "code",
   "execution_count": 5,
   "id": "5ddcc5d5-31c1-4493-9928-ab33de2617be",
   "metadata": {},
   "outputs": [
    {
     "name": "stdout",
     "output_type": "stream",
     "text": [
      "00 - ipython-beyond-python\n"
     ]
    }
   ],
   "source": [
    "import os\n",
    "for i,f in enumerate(files):\n",
    "    if f.endswith('ipynb'):\n",
    "        !echo {\"%02d\" % i} - \"{os.path.splitext(f)[0]}\"\n",
    "    else:\n",
    "        print('--')"
   ]
  },
  {
   "cell_type": "markdown",
   "id": "f15de2d2-c406-4870-a8d7-ff532b3adcf1",
   "metadata": {},
   "source": [
    "## Beyond Python: magic functions"
   ]
  },
  {
   "cell_type": "markdown",
   "id": "c39fd06f-0710-4ec9-b1c5-e780115e25c0",
   "metadata": {},
   "source": [
    "The IPyhton 'magic' functions are a set of commands, invoked by prepending one or two `%` signs to their name, that live in a namespace separate from your normal Python variables and provide a more command-like interface.  They take flags with `--` and arguments without quotes, parentheses or commas. The motivation behind this system is two-fold:\n",
    "    \n",
    "- To provide an orthogonal namespace for controlling IPython itself and exposing other system-oriented functionality.\n",
    "\n",
    "- To expose a calling mode that requires minimal verbosity and typing while working interactively.  Thus the inspiration taken from the classic Unix shell style for commands."
   ]
  },
  {
   "cell_type": "code",
   "execution_count": null,
   "id": "9e7dff1c-8e75-458c-b7c7-cfd9a96bfd4c",
   "metadata": {},
   "outputs": [],
   "source": [
    "%magic"
   ]
  },
  {
   "cell_type": "markdown",
   "id": "8fe363de-dbbc-4cd3-ba44-144938d972b8",
   "metadata": {},
   "source": [
    "Line vs cell magics:"
   ]
  },
  {
   "cell_type": "code",
   "execution_count": 7,
   "id": "86cb0da9-ca81-40ad-8039-9c0dc86df360",
   "metadata": {},
   "outputs": [
    {
     "name": "stdout",
     "output_type": "stream",
     "text": [
      "11 µs ± 122 ns per loop (mean ± std. dev. of 7 runs, 100000 loops each)\n"
     ]
    }
   ],
   "source": [
    "%timeit list(range(1000))"
   ]
  },
  {
   "cell_type": "code",
   "execution_count": 8,
   "id": "2b2b4931-57e9-4cc1-a53e-bc02a9156dc3",
   "metadata": {},
   "outputs": [
    {
     "name": "stdout",
     "output_type": "stream",
     "text": [
      "1.01 µs ± 25.1 ns per loop (mean ± std. dev. of 7 runs, 1000000 loops each)\n"
     ]
    }
   ],
   "source": [
    "%%timeit\n",
    "list(range(10))\n",
    "list(range(100))"
   ]
  },
  {
   "cell_type": "markdown",
   "id": "22a05b10-4e92-447c-bbdb-836547656854",
   "metadata": {},
   "source": [
    "Like with `!cmd` above, you can capture the return value of any magic by assigning it. For example, with the `-o` flag, `%timeit` returns its output as a data structure in addition to printing the summary, so you can later do computations with it."
   ]
  },
  {
   "cell_type": "code",
   "execution_count": 12,
   "id": "d3e6fedf-45a7-4991-9666-4d2c5fb9f3bd",
   "metadata": {},
   "outputs": [
    {
     "name": "stdout",
     "output_type": "stream",
     "text": [
      "786 ns ± 25.6 ns per loop (mean ± std. dev. of 7 runs, 1000000 loops each)\n"
     ]
    },
    {
     "data": {
      "text/plain": [
       "7.442348900003708e-07"
      ]
     },
     "execution_count": 12,
     "metadata": {},
     "output_type": "execute_result"
    }
   ],
   "source": [
    "t = %timeit -o list(range(100))\n",
    "t.best"
   ]
  },
  {
   "cell_type": "code",
   "execution_count": 11,
   "id": "53de4bd4-991c-43af-8f7c-6b391e3ef4c6",
   "metadata": {},
   "outputs": [
    {
     "data": {
      "text/plain": [
       "7.325789290007379e-07"
      ]
     },
     "execution_count": 11,
     "metadata": {},
     "output_type": "execute_result"
    }
   ],
   "source": [
    "t.best"
   ]
  },
  {
   "cell_type": "markdown",
   "id": "1ef94658-e27e-417a-b965-422330d63adc",
   "metadata": {},
   "source": [
    "_Note:_ there is no generic mechanism for capturing the output of a cell magic into a variable, though you can work around this if needed by grabbing the `_` variable that automatically stores the last computed result after running a cell magic whose return value you may want."
   ]
  },
  {
   "cell_type": "markdown",
   "id": "c0d371be-c422-4c19-ba14-f2c9cebd0253",
   "metadata": {},
   "source": [
    "Line magics can be used even inside code blocks:"
   ]
  },
  {
   "cell_type": "code",
   "execution_count": 26,
   "id": "1d8b59ea-86e6-490c-a468-01443b1aff26",
   "metadata": {},
   "outputs": [
    {
     "name": "stdout",
     "output_type": "stream",
     "text": [
      "size: 100 100000 loops, best of 3: 1.86 µs per loop\n",
      "size: 200 100000 loops, best of 3: 2.49 µs per loop\n",
      "size: 300 100000 loops, best of 3: 4.04 µs per loop\n",
      "size: 400 100000 loops, best of 3: 6.21 µs per loop\n"
     ]
    }
   ],
   "source": [
    "for i in range(1, 5):\n",
    "    size = i*100\n",
    "    print('size:', size, end=' ')\n",
    "    %timeit list(range(size))"
   ]
  },
  {
   "cell_type": "markdown",
   "id": "2296d904-952c-444c-b179-1b93e5ab0e5d",
   "metadata": {},
   "source": [
    "Magics can do anything they want with their input, so it doesn't have to be valid Python. Note that the `bash` magic passes _all_ of its input unmodified to Bash, so `$var` isn't expanded assuming that `var` is a Python variable as `!cmd` does. This lets you paste unmodified Shell scripting code into a cell and you are guaranteed that it will run in a separate Bash process as if it was a script executed at the command line."
   ]
  },
  {
   "cell_type": "code",
   "execution_count": 13,
   "id": "96052449-f713-4a65-b787-46c853da738d",
   "metadata": {},
   "outputs": [
    {
     "name": "stdout",
     "output_type": "stream",
     "text": [
      "My shell is: /bin/bash\n",
      "My disk usage is:\n",
      "Filesystem                                                                 Size   Used  Avail Capacity  iused       ifree %iused  Mounted on\n",
      "/dev/disk1s5s1                                                            1.8Ti   14Gi  432Gi     4%   553757 19538475003    0%   /\n",
      "devfs                                                                     199Ki  199Ki    0Bi   100%      690           0  100%   /dev\n",
      "/dev/disk1s4                                                              1.8Ti  1.0Gi  432Gi     1%        3 19539028757    0%   /System/Volumes/VM\n",
      "/dev/disk1s2                                                              1.8Ti  281Mi  432Gi     1%      814 19539027946    0%   /System/Volumes/Preboot\n",
      "/dev/disk1s6                                                              1.8Ti  264Ki  432Gi     1%       19 19539028741    0%   /System/Volumes/Update\n",
      "/dev/disk1s1                                                              1.8Ti  1.4Ti  432Gi    77%  3890131 19535138629    0%   /System/Volumes/Data\n",
      "map auto_home                                                               0Bi    0Bi    0Bi   100%        0           0  100%   /System/Volumes/Data/home\n",
      "/dev/disk2s2                                                              1.8Ti  1.3Ti  481Gi    75% 32911853  4262055426    1%   /Volumes/WD Time Machine Backup\n",
      "/dev/disk2s3                                                              2.7Ti  610Gi  2.1Ti    22%   675768  4294291511    0%   /Volumes/WDSilverData\n",
      "/Library/PreferencePanes/Witch.prefPane/Contents/Helpers/witchdaemon.app  1.8Ti  1.4Ti  385Gi    80%  3730872 19535297888    0%   /private/var/folders/qh/gvcvjg9x2qj0py4gwxt65x3c0010dw/T/AppTranslocation/1A4BB6CE-9FE1-4B38-9920-C49FE0DDAB87\n",
      "/dev/disk3s1                                                              603Mi  396Mi  207Mi    66%      638  4294966641    0%   /Volumes/Slack\n"
     ]
    }
   ],
   "source": [
    "%%bash\n",
    "echo \"My shell is:\" $SHELL\n",
    "echo \"My disk usage is:\"\n",
    "df -h"
   ]
  },
  {
   "cell_type": "markdown",
   "id": "b18b32ff-ef0a-4f0e-a463-325b6df30a57",
   "metadata": {},
   "source": [
    "You can also capture stdout/err from these subprocesses into Python variables, instead of letting them go directly to stdout/err"
   ]
  },
  {
   "cell_type": "code",
   "execution_count": 23,
   "id": "1cfa206a-c8d8-43a7-9789-b04c93d68673",
   "metadata": {
    "collapsed": false,
    "jupyter": {
     "outputs_hidden": false
    }
   },
   "outputs": [
    {
     "name": "stdout",
     "output_type": "stream",
     "text": [
      "hi, stdout\n"
     ]
    },
    {
     "name": "stderr",
     "output_type": "stream",
     "text": [
      "hello, stderr\n"
     ]
    }
   ],
   "source": [
    "%%bash\n",
    "echo \"hi, stdout\"\n",
    "echo \"hello, stderr\" >&2"
   ]
  },
  {
   "cell_type": "code",
   "execution_count": 24,
   "id": "4893b54c-e4e6-4c3a-9a46-a83128640795",
   "metadata": {
    "collapsed": false,
    "jupyter": {
     "outputs_hidden": false
    }
   },
   "outputs": [],
   "source": [
    "%%bash --out output --err error\n",
    "echo \"hi, stdout\"\n",
    "echo \"hello, stderr\" >&2"
   ]
  },
  {
   "cell_type": "code",
   "execution_count": 25,
   "id": "09710da9-ddb0-4297-b879-6f28bf0681cb",
   "metadata": {
    "collapsed": false,
    "jupyter": {
     "outputs_hidden": false
    }
   },
   "outputs": [
    {
     "name": "stdout",
     "output_type": "stream",
     "text": [
      "hello, stderr\n",
      "\n",
      "hi, stdout\n",
      "\n"
     ]
    }
   ],
   "source": [
    "print(error)\n",
    "print(output)"
   ]
  },
  {
   "cell_type": "markdown",
   "id": "ba0ff0b3-67ad-4618-bf84-a187c0364497",
   "metadata": {},
   "source": [
    "Another interesting cell magic: create any file you want locally from the notebook:"
   ]
  },
  {
   "cell_type": "code",
   "execution_count": 14,
   "id": "b7537769-7e04-418f-a0d5-b29aaece6472",
   "metadata": {},
   "outputs": [
    {
     "name": "stdout",
     "output_type": "stream",
     "text": [
      "Writing test.txt\n"
     ]
    }
   ],
   "source": [
    "%%writefile test.txt\n",
    "This is a test file!\n",
    "It can contain anything I want...\n",
    "\n",
    "And more..."
   ]
  },
  {
   "cell_type": "code",
   "execution_count": 15,
   "id": "d6c9a8e9-fc78-44bb-90ef-b391c1fff3f6",
   "metadata": {},
   "outputs": [
    {
     "name": "stdout",
     "output_type": "stream",
     "text": [
      "This is a test file!\n",
      "It can contain anything I want...\n",
      "\n",
      "And more...\n"
     ]
    }
   ],
   "source": [
    "!cat test.txt"
   ]
  },
  {
   "cell_type": "markdown",
   "id": "ef4e8103-dafc-4557-9b18-0213c3dca3d3",
   "metadata": {},
   "source": [
    "Most magic functions have help built into them which you can summon with the usual `?` operator:"
   ]
  },
  {
   "cell_type": "code",
   "execution_count": 18,
   "id": "f8078232-f33d-46e9-a692-d059dc618b4b",
   "metadata": {},
   "outputs": [
    {
     "data": {
      "text/plain": [
       "\u001b[0;31mDocstring:\u001b[0m\n",
       "Change the current working directory.\n",
       "\n",
       "This command automatically maintains an internal list of directories\n",
       "you visit during your IPython session, in the variable _dh. The\n",
       "command %dhist shows this history nicely formatted. You can also\n",
       "do 'cd -<tab>' to see directory history conveniently.\n",
       "\n",
       "Usage:\n",
       "\n",
       "  cd 'dir': changes to directory 'dir'.\n",
       "\n",
       "  cd -: changes to the last visited directory.\n",
       "\n",
       "  cd -<n>: changes to the n-th directory in the directory history.\n",
       "\n",
       "  cd --foo: change to directory that matches 'foo' in history\n",
       "\n",
       "  cd -b <bookmark_name>: jump to a bookmark set by %bookmark\n",
       "     (note: cd <bookmark_name> is enough if there is no\n",
       "      directory <bookmark_name>, but a bookmark with the name exists.)\n",
       "      'cd -b <tab>' allows you to tab-complete bookmark names.\n",
       "\n",
       "Options:\n",
       "\n",
       "-q: quiet.  Do not print the working directory after the cd command is\n",
       "executed.  By default IPython's cd command does print this directory,\n",
       "since the default prompts do not display path information.\n",
       "\n",
       "Note that !cd doesn't work for this purpose because the shell where\n",
       "!command runs is immediately discarded after executing 'command'.\n",
       "\n",
       "Examples\n",
       "--------\n",
       "::\n",
       "\n",
       "  In [10]: cd parent/child\n",
       "  /home/tsuser/parent/child\n",
       "\u001b[0;31mFile:\u001b[0m      ~/local/conda/lib/python3.9/site-packages/IPython/core/magics/osm.py\n"
      ]
     },
     "metadata": {},
     "output_type": "display_data"
    }
   ],
   "source": [
    "%cd?"
   ]
  },
  {
   "cell_type": "markdown",
   "id": "fcc7a485-4f4f-417e-9c19-3ec4a6d7dc3e",
   "metadata": {},
   "source": [
    "The magic system is easily extensible, you can define your own magic functions with a few lines of code, [as explained in the documentation](https://ipython.readthedocs.io/en/stable/config/custommagics.html).\n",
    "\n",
    "To close this section, let's see what other magics are currently defined in the system. You should explore these, as they can be quite useful in everyday work, and they can give you ideas for creating new ones to meet your own needs."
   ]
  },
  {
   "cell_type": "code",
   "execution_count": 19,
   "id": "8f3df033-b62d-402f-837a-ada89133cc76",
   "metadata": {},
   "outputs": [
    {
     "data": {
      "application/json": {
       "cell": {
        "!": "OSMagics",
        "HTML": "Other",
        "SVG": "Other",
        "bash": "Other",
        "capture": "ExecutionMagics",
        "debug": "ExecutionMagics",
        "file": "Other",
        "html": "DisplayMagics",
        "javascript": "DisplayMagics",
        "js": "DisplayMagics",
        "latex": "DisplayMagics",
        "markdown": "DisplayMagics",
        "perl": "Other",
        "prun": "ExecutionMagics",
        "pypy": "Other",
        "python": "Other",
        "python2": "Other",
        "python3": "Other",
        "ruby": "Other",
        "script": "ScriptMagics",
        "sh": "Other",
        "svg": "DisplayMagics",
        "sx": "OSMagics",
        "system": "OSMagics",
        "time": "ExecutionMagics",
        "timeit": "ExecutionMagics",
        "writefile": "OSMagics"
       },
       "line": {
        "alias": "OSMagics",
        "alias_magic": "BasicMagics",
        "autoawait": "AsyncMagics",
        "autocall": "AutoMagics",
        "automagic": "AutoMagics",
        "autosave": "KernelMagics",
        "bookmark": "OSMagics",
        "cat": "Other",
        "cd": "OSMagics",
        "cl": "Other",
        "clear": "KernelMagics",
        "colors": "BasicMagics",
        "conda": "PackagingMagics",
        "config": "ConfigMagics",
        "connect_info": "KernelMagics",
        "cp": "Other",
        "d": "Other",
        "dd": "Other",
        "debug": "ExecutionMagics",
        "dhist": "OSMagics",
        "dirs": "OSMagics",
        "dl": "Other",
        "doctest_mode": "BasicMagics",
        "dp": "Other",
        "dus": "Other",
        "dx": "Other",
        "ed": "Other",
        "edit": "KernelMagics",
        "env": "OSMagics",
        "gui": "BasicMagics",
        "hist": "Other",
        "history": "HistoryMagics",
        "killbgscripts": "ScriptMagics",
        "ldir": "Other",
        "less": "KernelMagics",
        "lf": "Other",
        "lk": "Other",
        "ll": "Other",
        "load": "CodeMagics",
        "load_ext": "ExtensionMagics",
        "loadpy": "CodeMagics",
        "logoff": "LoggingMagics",
        "logon": "LoggingMagics",
        "logstart": "LoggingMagics",
        "logstate": "LoggingMagics",
        "logstop": "LoggingMagics",
        "ls": "Other",
        "lsmagic": "BasicMagics",
        "lx": "Other",
        "macro": "ExecutionMagics",
        "magic": "BasicMagics",
        "man": "KernelMagics",
        "matplotlib": "PylabMagics",
        "mkdir": "Other",
        "more": "KernelMagics",
        "mv": "Other",
        "notebook": "BasicMagics",
        "page": "BasicMagics",
        "pastebin": "CodeMagics",
        "pdb": "ExecutionMagics",
        "pdef": "NamespaceMagics",
        "pdoc": "NamespaceMagics",
        "pfile": "NamespaceMagics",
        "pinfo": "NamespaceMagics",
        "pinfo2": "NamespaceMagics",
        "pip": "PackagingMagics",
        "popd": "OSMagics",
        "pprint": "BasicMagics",
        "precision": "BasicMagics",
        "prun": "ExecutionMagics",
        "psearch": "NamespaceMagics",
        "psource": "NamespaceMagics",
        "pushd": "OSMagics",
        "pwd": "OSMagics",
        "pycat": "OSMagics",
        "pylab": "PylabMagics",
        "qtconsole": "KernelMagics",
        "quickref": "BasicMagics",
        "recall": "HistoryMagics",
        "rehashx": "OSMagics",
        "reload_ext": "ExtensionMagics",
        "rep": "Other",
        "rerun": "HistoryMagics",
        "reset": "NamespaceMagics",
        "reset_selective": "NamespaceMagics",
        "rm": "Other",
        "rmdir": "Other",
        "run": "ExecutionMagics",
        "save": "CodeMagics",
        "sc": "OSMagics",
        "set_env": "OSMagics",
        "store": "StoreMagics",
        "sx": "OSMagics",
        "system": "OSMagics",
        "tb": "ExecutionMagics",
        "time": "ExecutionMagics",
        "timeit": "ExecutionMagics",
        "unalias": "OSMagics",
        "unload_ext": "ExtensionMagics",
        "who": "NamespaceMagics",
        "who_ls": "NamespaceMagics",
        "whos": "NamespaceMagics",
        "xdel": "NamespaceMagics",
        "xmode": "BasicMagics"
       }
      },
      "text/plain": [
       "Available line magics:\n",
       "%alias  %alias_magic  %autoawait  %autocall  %automagic  %autosave  %bookmark  %cat  %cd  %cl  %clear  %colors  %conda  %config  %connect_info  %cp  %d  %dd  %debug  %dhist  %dirs  %dl  %doctest_mode  %dp  %dus  %dx  %ed  %edit  %env  %gui  %hist  %history  %killbgscripts  %ldir  %less  %lf  %lk  %ll  %load  %load_ext  %loadpy  %logoff  %logon  %logstart  %logstate  %logstop  %ls  %lsmagic  %lx  %macro  %magic  %man  %matplotlib  %mkdir  %more  %mv  %notebook  %page  %pastebin  %pdb  %pdef  %pdoc  %pfile  %pinfo  %pinfo2  %pip  %popd  %pprint  %precision  %prun  %psearch  %psource  %pushd  %pwd  %pycat  %pylab  %qtconsole  %quickref  %recall  %rehashx  %reload_ext  %rep  %rerun  %reset  %reset_selective  %rm  %rmdir  %run  %save  %sc  %set_env  %store  %sx  %system  %tb  %time  %timeit  %unalias  %unload_ext  %who  %who_ls  %whos  %xdel  %xmode\n",
       "\n",
       "Available cell magics:\n",
       "%%!  %%HTML  %%SVG  %%bash  %%capture  %%debug  %%file  %%html  %%javascript  %%js  %%latex  %%markdown  %%perl  %%prun  %%pypy  %%python  %%python2  %%python3  %%ruby  %%script  %%sh  %%svg  %%sx  %%system  %%time  %%timeit  %%writefile\n",
       "\n",
       "Automagic is ON, % prefix IS NOT needed for line magics."
      ]
     },
     "execution_count": 19,
     "metadata": {},
     "output_type": "execute_result"
    }
   ],
   "source": [
    "%lsmagic -h"
   ]
  },
  {
   "cell_type": "markdown",
   "id": "5ffeae9f-c17e-4a88-826d-1cda6a50e8e4",
   "metadata": {},
   "source": [
    "## Multi-language integration"
   ]
  },
  {
   "cell_type": "markdown",
   "id": "01f2bbc2-6346-4940-b3e6-537cac7ff687",
   "metadata": {},
   "source": [
    "Through the Magic system, IPython makes it possible to create rich integrations with other programming languages. Note that this is separate from the use of entirely separate _kernels_ for Jupyter itself, that are dedicated to executing code in other languages. Here we focus on making calls to other languages from within a mostly-Python, IPython-based session.  \n",
    "\n",
    "We've already seen the use of `%%bash` above, and you may want to poke at the `%%script` magic if you'd like to run other arbitrary scripts.  Since this is meant to be a very brief intro we only show one more language integration here, with Fortran. But in [this example](https://nbviewer.jupyter.org/gist/fperez/5b49246af4e340c37549265a90894ce6/polyglot-ds.ipynb) you can see how to interleave within one single session others, including R, Julia and Cython.\n",
    "\n",
    "To use the Fortran magic we load an extension we've previously installed:"
   ]
  },
  {
   "cell_type": "code",
   "execution_count": 34,
   "id": "1bf3e551-fe59-408a-a9a5-4134bf93f978",
   "metadata": {},
   "outputs": [
    {
     "data": {
      "application/javascript": [
       "new Promise(function(resolve, reject) {\n",
       "\tvar script = document.createElement(\"script\");\n",
       "\tscript.onload = resolve;\n",
       "\tscript.onerror = reject;\n",
       "\tscript.src = \"https://raw.github.com/marijnh/CodeMirror/master/mode/fortran/fortran.js\";\n",
       "\tdocument.head.appendChild(script);\n",
       "}).then(() => {\n",
       "IPython.config.cell_magic_highlight['magic_fortran'] = {'reg':[/^%%fortran/]};\n",
       "});"
      ]
     },
     "metadata": {},
     "output_type": "display_data"
    }
   ],
   "source": [
    "%load_ext fortranmagic"
   ]
  },
  {
   "cell_type": "markdown",
   "id": "c1f9f029-43df-4cba-b10d-cdc25538796f",
   "metadata": {},
   "source": [
    "And with this, we now can type arbitrary Fortran functions that will be compiled, linked and imported for us using the [`f2py`](https://numpy.org/doc/stable/f2py) tool that is central to the SciPy ecosystem:"
   ]
  },
  {
   "cell_type": "code",
   "execution_count": 35,
   "id": "f5d79ae2-7591-4a4c-bbef-ad077a7ce9cb",
   "metadata": {},
   "outputs": [],
   "source": [
    "%%fortran\n",
    "subroutine sinx2(x, y, n)\n",
    "    real, intent(in), dimension(n) :: x\n",
    "    real, intent(out), dimension(n) :: y\n",
    "    !intent(hide) :: n\n",
    "    y = sin(x**2)\n",
    "end subroutine sinx2"
   ]
  },
  {
   "cell_type": "markdown",
   "id": "bd23eed0-6065-4cca-959c-1c8ca87c8cdd",
   "metadata": {},
   "source": [
    "After running the above cell, we have a new function in Python called `sinx2` that computes $\\sin(x^2)$ and that understands natively numpy arrays. It even has a docstring!"
   ]
  },
  {
   "cell_type": "code",
   "execution_count": 38,
   "id": "0026dcfd-bc74-441c-b5dd-cd6fd7365fc0",
   "metadata": {},
   "outputs": [
    {
     "data": {
      "text/plain": [
       "\u001b[0;31mCall signature:\u001b[0m \u001b[0msinx2\u001b[0m\u001b[0;34m(\u001b[0m\u001b[0;34m*\u001b[0m\u001b[0margs\u001b[0m\u001b[0;34m,\u001b[0m \u001b[0;34m**\u001b[0m\u001b[0mkwargs\u001b[0m\u001b[0;34m)\u001b[0m\u001b[0;34m\u001b[0m\u001b[0;34m\u001b[0m\u001b[0m\n",
       "\u001b[0;31mType:\u001b[0m           fortran\n",
       "\u001b[0;31mString form:\u001b[0m    <fortran object>\n",
       "\u001b[0;31mDocstring:\u001b[0m     \n",
       "y = sinx2(x,[n])\n",
       "\n",
       "Wrapper for ``sinx2``.\n",
       "\n",
       "Parameters\n",
       "----------\n",
       "x : input rank-1 array('f') with bounds (n)\n",
       "\n",
       "Other Parameters\n",
       "----------------\n",
       "n : input int, optional\n",
       "    Default: len(x)\n",
       "\n",
       "Returns\n",
       "-------\n",
       "y : rank-1 array('f') with bounds (n)\n"
      ]
     },
     "metadata": {},
     "output_type": "display_data"
    }
   ],
   "source": [
    "sinx2?"
   ]
  },
  {
   "cell_type": "markdown",
   "id": "a0ad06c4-c882-45f6-99bb-ce04518bdec5",
   "metadata": {},
   "source": [
    "We can now use it as any other Python function:"
   ]
  },
  {
   "cell_type": "code",
   "execution_count": 39,
   "id": "f2f157ab-a3bc-4a12-b5d0-32fbec8bd2bd",
   "metadata": {},
   "outputs": [],
   "source": [
    "import matplotlib.pyplot as plt\n",
    "import numpy as np"
   ]
  },
  {
   "cell_type": "code",
   "execution_count": 40,
   "id": "168e42a5-e9d9-4848-b9cc-ba578a368f71",
   "metadata": {},
   "outputs": [
    {
     "data": {
      "image/png": "[encoded data removed]",
      "text/plain": [
       "<Figure size 432x288 with 1 Axes>"
      ]
     },
     "metadata": {
      "needs_background": "light"
     },
     "output_type": "display_data"
    }
   ],
   "source": [
    "x = np.linspace(0, 2*np.pi, 200)\n",
    "y = sinx2(x)\n",
    "plt.plot(x, y);"
   ]
  },
  {
   "cell_type": "markdown",
   "id": "9188e794-ea5f-4591-b0f6-6dd7e949778d",
   "metadata": {},
   "source": [
    "## Rich object displays\n",
    "\n",
    "In Python, objects can define how to display themselves both for print statements, via the special `__str__` method, and with a potentially richer representation with `__repr__`.  IPython takes this idea pretty far, allowing you to declare multiple display representations of your objects, that can include images, mathematical representations in LaTeX and arbitrarily rich HTML and JavaScript.\n",
    "\n",
    "For example, the [SymPy library for symbolic computing](https://sympy.org) uses this system to display mathematical expressions:"
   ]
  },
  {
   "cell_type": "code",
   "execution_count": 44,
   "id": "3b094274-2e2b-42c4-a753-88a31c33c8e9",
   "metadata": {},
   "outputs": [
    {
     "data": {
      "text/latex": [
       "$\\displaystyle \\frac{3 \\pi}{2} + \\frac{e^{i x}}{x^{2} + y}$"
      ],
      "text/plain": [
       "3*pi/2 + exp(I*x)/(x**2 + y)"
      ]
     },
     "execution_count": 44,
     "metadata": {},
     "output_type": "execute_result"
    }
   ],
   "source": [
    "from sympy import symbols, I, pi, exp, Rational\n",
    "\n",
    "x, y = symbols(\"x y\")\n",
    "Rational(3,2)*pi + exp(I*x) / (x**2 + y)"
   ]
  },
  {
   "cell_type": "markdown",
   "id": "a987ab88-1a1e-4254-bd65-6de3994a26d5",
   "metadata": {},
   "source": [
    "This is the system that Pandas takes advantage of to display datframes as a readable, HTML table:"
   ]
  },
  {
   "cell_type": "code",
   "execution_count": 48,
   "id": "38cf2eaa-7246-4b6d-a7df-d6d7fa8b0c06",
   "metadata": {},
   "outputs": [
    {
     "data": {
      "text/html": [
       "<div>\n",
       "<style scoped>\n",
       "    .dataframe tbody tr th:only-of-type {\n",
       "        vertical-align: middle;\n",
       "    }\n",
       "\n",
       "    .dataframe tbody tr th {\n",
       "        vertical-align: top;\n",
       "    }\n",
       "\n",
       "    .dataframe thead th {\n",
       "        text-align: right;\n",
       "    }\n",
       "</style>\n",
       "<table border=\"1\" class=\"dataframe\">\n",
       "  <thead>\n",
       "    <tr style=\"text-align: right;\">\n",
       "      <th></th>\n",
       "      <th>x</th>\n",
       "      <th>y</th>\n",
       "    </tr>\n",
       "  </thead>\n",
       "  <tbody>\n",
       "    <tr>\n",
       "      <th>0</th>\n",
       "      <td>3</td>\n",
       "      <td>10</td>\n",
       "    </tr>\n",
       "    <tr>\n",
       "      <th>1</th>\n",
       "      <td>2</td>\n",
       "      <td>20</td>\n",
       "    </tr>\n",
       "    <tr>\n",
       "      <th>2</th>\n",
       "      <td>1</td>\n",
       "      <td>30</td>\n",
       "    </tr>\n",
       "  </tbody>\n",
       "</table>\n",
       "</div>"
      ],
      "text/plain": [
       "   x   y\n",
       "0  3  10\n",
       "1  2  20\n",
       "2  1  30"
      ]
     },
     "execution_count": 48,
     "metadata": {},
     "output_type": "execute_result"
    }
   ],
   "source": [
    "import pandas as pd\n",
    "\n",
    "pd.DataFrame(dict(x=[3,2,1], y=[10,20,30]))"
   ]
  },
  {
   "cell_type": "markdown",
   "id": "c5a9240e-0315-4b75-8543-8b7fa822bdf1",
   "metadata": {},
   "source": [
    "The [Xarray library](https://xarray.pydata.org/en/stable/examples/multidimensional-coords.html) makes particularly good use of this system, to provide very informative displays of datasets that describe the structure of the data immediately with a collapsible HTML view. Given the complexity of datasets frequently encountered in the geosciences and that Xarray can read, this can be a very useful feature when interactively exploring data:"
   ]
  },
  {
   "cell_type": "code",
   "execution_count": 51,
   "id": "3e8ba49c-0904-4c73-a482-17ed365f47fe",
   "metadata": {},
   "outputs": [
    {
     "data": {
      "text/html": [
       "<div><svg style=\"position: absolute; width: 0; height: 0; overflow: hidden\">\n",
       "<defs>\n",
       "<symbol id=\"icon-database\" viewBox=\"0 0 32 32\">\n",
       "<path d=\"M16 0c-8.837 0-16 2.239-16 5v4c0 2.761 7.163 5 16 5s16-2.239 16-5v-4c0-2.761-7.163-5-16-5z\"></path>\n",
       "<path d=\"M16 17c-8.837 0-16-2.239-16-5v6c0 2.761 7.163 5 16 5s16-2.239 16-5v-6c0 2.761-7.163 5-16 5z\"></path>\n",
       "<path d=\"M16 26c-8.837 0-16-2.239-16-5v6c0 2.761 7.163 5 16 5s16-2.239 16-5v-6c0 2.761-7.163 5-16 5z\"></path>\n",
       "</symbol>\n",
       "<symbol id=\"icon-file-text2\" viewBox=\"0 0 32 32\">\n",
       "<path d=\"M28.681 7.159c-0.694-0.947-1.662-2.053-2.724-3.116s-2.169-2.030-3.116-2.724c-1.612-1.182-2.393-1.319-2.841-1.319h-15.5c-1.378 0-2.5 1.121-2.5 2.5v27c0 1.378 1.122 2.5 2.5 2.5h23c1.378 0 2.5-1.122 2.5-2.5v-19.5c0-0.448-0.137-1.23-1.319-2.841zM24.543 5.457c0.959 0.959 1.712 1.825 2.268 2.543h-4.811v-4.811c0.718 0.556 1.584 1.309 2.543 2.268zM28 29.5c0 0.271-0.229 0.5-0.5 0.5h-23c-0.271 0-0.5-0.229-0.5-0.5v-27c0-0.271 0.229-0.5 0.5-0.5 0 0 15.499-0 15.5 0v7c0 0.552 0.448 1 1 1h7v19.5z\"></path>\n",
       "<path d=\"M23 26h-14c-0.552 0-1-0.448-1-1s0.448-1 1-1h14c0.552 0 1 0.448 1 1s-0.448 1-1 1z\"></path>\n",
       "<path d=\"M23 22h-14c-0.552 0-1-0.448-1-1s0.448-1 1-1h14c0.552 0 1 0.448 1 1s-0.448 1-1 1z\"></path>\n",
       "<path d=\"M23 18h-14c-0.552 0-1-0.448-1-1s0.448-1 1-1h14c0.552 0 1 0.448 1 1s-0.448 1-1 1z\"></path>\n",
       "</symbol>\n",
       "</defs>\n",
       "</svg>\n",
       "<style>/* CSS stylesheet for displaying xarray objects in jupyterlab.\n",
       " *\n",
       " */\n",
       "\n",
       ":root {\n",
       "  --xr-font-color0: var(--jp-content-font-color0, rgba(0, 0, 0, 1));\n",
       "  --xr-font-color2: var(--jp-content-font-color2, rgba(0, 0, 0, 0.54));\n",
       "  --xr-font-color3: var(--jp-content-font-color3, rgba(0, 0, 0, 0.38));\n",
       "  --xr-border-color: var(--jp-border-color2, #e0e0e0);\n",
       "  --xr-disabled-color: var(--jp-layout-color3, #bdbdbd);\n",
       "  --xr-background-color: var(--jp-layout-color0, white);\n",
       "  --xr-background-color-row-even: var(--jp-layout-color1, white);\n",
       "  --xr-background-color-row-odd: var(--jp-layout-color2, #eeeeee);\n",
       "}\n",
       "\n",
       "html[theme=dark],\n",
       "body.vscode-dark {\n",
       "  --xr-font-color0: rgba(255, 255, 255, 1);\n",
       "  --xr-font-color2: rgba(255, 255, 255, 0.54);\n",
       "  --xr-font-color3: rgba(255, 255, 255, 0.38);\n",
       "  --xr-border-color: #1F1F1F;\n",
       "  --xr-disabled-color: #515151;\n",
       "  --xr-background-color: #111111;\n",
       "  --xr-background-color-row-even: #111111;\n",
       "  --xr-background-color-row-odd: #313131;\n",
       "}\n",
       "\n",
       ".xr-wrap {\n",
       "  display: block;\n",
       "  min-width: 300px;\n",
       "  max-width: 700px;\n",
       "}\n",
       "\n",
       ".xr-text-repr-fallback {\n",
       "  /* fallback to plain text repr when CSS is not injected (untrusted notebook) */\n",
       "  display: none;\n",
       "}\n",
       "\n",
       ".xr-header {\n",
       "  padding-top: 6px;\n",
       "  padding-bottom: 6px;\n",
       "  margin-bottom: 4px;\n",
       "  border-bottom: solid 1px var(--xr-border-color);\n",
       "}\n",
       "\n",
       ".xr-header > div,\n",
       ".xr-header > ul {\n",
       "  display: inline;\n",
       "  margin-top: 0;\n",
       "  margin-bottom: 0;\n",
       "}\n",
       "\n",
       ".xr-obj-type,\n",
       ".xr-array-name {\n",
       "  margin-left: 2px;\n",
       "  margin-right: 10px;\n",
       "}\n",
       "\n",
       ".xr-obj-type {\n",
       "  color: var(--xr-font-color2);\n",
       "}\n",
       "\n",
       ".xr-sections {\n",
       "  padding-left: 0 !important;\n",
       "  display: grid;\n",
       "  grid-template-columns: 150px auto auto 1fr 20px 20px;\n",
       "}\n",
       "\n",
       ".xr-section-item {\n",
       "  display: contents;\n",
       "}\n",
       "\n",
       ".xr-section-item input {\n",
       "  display: none;\n",
       "}\n",
       "\n",
       ".xr-section-item input + label {\n",
       "  color: var(--xr-disabled-color);\n",
       "}\n",
       "\n",
       ".xr-section-item input:enabled + label {\n",
       "  cursor: pointer;\n",
       "  color: var(--xr-font-color2);\n",
       "}\n",
       "\n",
       ".xr-section-item input:enabled + label:hover {\n",
       "  color: var(--xr-font-color0);\n",
       "}\n",
       "\n",
       ".xr-section-summary {\n",
       "  grid-column: 1;\n",
       "  color: var(--xr-font-color2);\n",
       "  font-weight: 500;\n",
       "}\n",
       "\n",
       ".xr-section-summary > span {\n",
       "  display: inline-block;\n",
       "  padding-left: 0.5em;\n",
       "}\n",
       "\n",
       ".xr-section-summary-in:disabled + label {\n",
       "  color: var(--xr-font-color2);\n",
       "}\n",
       "\n",
       ".xr-section-summary-in + label:before {\n",
       "  display: inline-block;\n",
       "  content: '►';\n",
       "  font-size: 11px;\n",
       "  width: 15px;\n",
       "  text-align: center;\n",
       "}\n",
       "\n",
       ".xr-section-summary-in:disabled + label:before {\n",
       "  color: var(--xr-disabled-color);\n",
       "}\n",
       "\n",
       ".xr-section-summary-in:checked + label:before {\n",
       "  content: '▼';\n",
       "}\n",
       "\n",
       ".xr-section-summary-in:checked + label > span {\n",
       "  display: none;\n",
       "}\n",
       "\n",
       ".xr-section-summary,\n",
       ".xr-section-inline-details {\n",
       "  padding-top: 4px;\n",
       "  padding-bottom: 4px;\n",
       "}\n",
       "\n",
       ".xr-section-inline-details {\n",
       "  grid-column: 2 / -1;\n",
       "}\n",
       "\n",
       ".xr-section-details {\n",
       "  display: none;\n",
       "  grid-column: 1 / -1;\n",
       "  margin-bottom: 5px;\n",
       "}\n",
       "\n",
       ".xr-section-summary-in:checked ~ .xr-section-details {\n",
       "  display: contents;\n",
       "}\n",
       "\n",
       ".xr-array-wrap {\n",
       "  grid-column: 1 / -1;\n",
       "  display: grid;\n",
       "  grid-template-columns: 20px auto;\n",
       "}\n",
       "\n",
       ".xr-array-wrap > label {\n",
       "  grid-column: 1;\n",
       "  vertical-align: top;\n",
       "}\n",
       "\n",
       ".xr-preview {\n",
       "  color: var(--xr-font-color3);\n",
       "}\n",
       "\n",
       ".xr-array-preview,\n",
       ".xr-array-data {\n",
       "  padding: 0 5px !important;\n",
       "  grid-column: 2;\n",
       "}\n",
       "\n",
       ".xr-array-data,\n",
       ".xr-array-in:checked ~ .xr-array-preview {\n",
       "  display: none;\n",
       "}\n",
       "\n",
       ".xr-array-in:checked ~ .xr-array-data,\n",
       ".xr-array-preview {\n",
       "  display: inline-block;\n",
       "}\n",
       "\n",
       ".xr-dim-list {\n",
       "  display: inline-block !important;\n",
       "  list-style: none;\n",
       "  padding: 0 !important;\n",
       "  margin: 0;\n",
       "}\n",
       "\n",
       ".xr-dim-list li {\n",
       "  display: inline-block;\n",
       "  padding: 0;\n",
       "  margin: 0;\n",
       "}\n",
       "\n",
       ".xr-dim-list:before {\n",
       "  content: '(';\n",
       "}\n",
       "\n",
       ".xr-dim-list:after {\n",
       "  content: ')';\n",
       "}\n",
       "\n",
       ".xr-dim-list li:not(:last-child):after {\n",
       "  content: ',';\n",
       "  padding-right: 5px;\n",
       "}\n",
       "\n",
       ".xr-has-index {\n",
       "  font-weight: bold;\n",
       "}\n",
       "\n",
       ".xr-var-list,\n",
       ".xr-var-item {\n",
       "  display: contents;\n",
       "}\n",
       "\n",
       ".xr-var-item > div,\n",
       ".xr-var-item label,\n",
       ".xr-var-item > .xr-var-name span {\n",
       "  background-color: var(--xr-background-color-row-even);\n",
       "  margin-bottom: 0;\n",
       "}\n",
       "\n",
       ".xr-var-item > .xr-var-name:hover span {\n",
       "  padding-right: 5px;\n",
       "}\n",
       "\n",
       ".xr-var-list > li:nth-child(odd) > div,\n",
       ".xr-var-list > li:nth-child(odd) > label,\n",
       ".xr-var-list > li:nth-child(odd) > .xr-var-name span {\n",
       "  background-color: var(--xr-background-color-row-odd);\n",
       "}\n",
       "\n",
       ".xr-var-name {\n",
       "  grid-column: 1;\n",
       "}\n",
       "\n",
       ".xr-var-dims {\n",
       "  grid-column: 2;\n",
       "}\n",
       "\n",
       ".xr-var-dtype {\n",
       "  grid-column: 3;\n",
       "  text-align: right;\n",
       "  color: var(--xr-font-color2);\n",
       "}\n",
       "\n",
       ".xr-var-preview {\n",
       "  grid-column: 4;\n",
       "}\n",
       "\n",
       ".xr-var-name,\n",
       ".xr-var-dims,\n",
       ".xr-var-dtype,\n",
       ".xr-preview,\n",
       ".xr-attrs dt {\n",
       "  white-space: nowrap;\n",
       "  overflow: hidden;\n",
       "  text-overflow: ellipsis;\n",
       "  padding-right: 10px;\n",
       "}\n",
       "\n",
       ".xr-var-name:hover,\n",
       ".xr-var-dims:hover,\n",
       ".xr-var-dtype:hover,\n",
       ".xr-attrs dt:hover {\n",
       "  overflow: visible;\n",
       "  width: auto;\n",
       "  z-index: 1;\n",
       "}\n",
       "\n",
       ".xr-var-attrs,\n",
       ".xr-var-data {\n",
       "  display: none;\n",
       "  background-color: var(--xr-background-color) !important;\n",
       "  padding-bottom: 5px !important;\n",
       "}\n",
       "\n",
       ".xr-var-attrs-in:checked ~ .xr-var-attrs,\n",
       ".xr-var-data-in:checked ~ .xr-var-data {\n",
       "  display: block;\n",
       "}\n",
       "\n",
       ".xr-var-data > table {\n",
       "  float: right;\n",
       "}\n",
       "\n",
       ".xr-var-name span,\n",
       ".xr-var-data,\n",
       ".xr-attrs {\n",
       "  padding-left: 25px !important;\n",
       "}\n",
       "\n",
       ".xr-attrs,\n",
       ".xr-var-attrs,\n",
       ".xr-var-data {\n",
       "  grid-column: 1 / -1;\n",
       "}\n",
       "\n",
       "dl.xr-attrs {\n",
       "  padding: 0;\n",
       "  margin: 0;\n",
       "  display: grid;\n",
       "  grid-template-columns: 125px auto;\n",
       "}\n",
       "\n",
       ".xr-attrs dt,\n",
       ".xr-attrs dd {\n",
       "  padding: 0;\n",
       "  margin: 0;\n",
       "  float: left;\n",
       "  padding-right: 10px;\n",
       "  width: auto;\n",
       "}\n",
       "\n",
       ".xr-attrs dt {\n",
       "  font-weight: normal;\n",
       "  grid-column: 1;\n",
       "}\n",
       "\n",
       ".xr-attrs dt:hover span {\n",
       "  display: inline-block;\n",
       "  background: var(--xr-background-color);\n",
       "  padding-right: 10px;\n",
       "}\n",
       "\n",
       ".xr-attrs dd {\n",
       "  grid-column: 2;\n",
       "  white-space: pre-wrap;\n",
       "  word-break: break-all;\n",
       "}\n",
       "\n",
       ".xr-icon-database,\n",
       ".xr-icon-file-text2 {\n",
       "  display: inline-block;\n",
       "  vertical-align: middle;\n",
       "  width: 1em;\n",
       "  height: 1.5em !important;\n",
       "  stroke-width: 0;\n",
       "  stroke: currentColor;\n",
       "  fill: currentColor;\n",
       "}\n",
       "</style><pre class='xr-text-repr-fallback'>&lt;xarray.Dataset&gt;\n",
       "Dimensions:  (time: 36, x: 275, y: 205)\n",
       "Coordinates:\n",
       "  * time     (time) object 1980-09-16 12:00:00 ... 1983-08-17 00:00:00\n",
       "    xc       (y, x) float64 189.2 189.4 189.6 189.7 ... 17.65 17.4 17.15 16.91\n",
       "    yc       (y, x) float64 16.53 16.78 17.02 17.27 ... 28.26 28.01 27.76 27.51\n",
       "Dimensions without coordinates: x, y\n",
       "Data variables:\n",
       "    Tair     (time, y, x) float64 nan nan nan nan nan ... 29.8 28.66 28.19 28.21\n",
       "Attributes:\n",
       "    title:                     /workspace/jhamman/processed/R1002RBRxaaa01a/l...\n",
       "    institution:               U.W.\n",
       "    source:                    RACM R1002RBRxaaa01a\n",
       "    output_frequency:          daily\n",
       "    output_mode:               averaged\n",
       "    convention:                CF-1.4\n",
       "    references:                Based on the initial model of Liang et al., 19...\n",
       "    comment:                   Output from the Variable Infiltration Capacity...\n",
       "    nco_openmp_thread_number:  1\n",
       "    NCO:                       netCDF Operators version 4.7.9 (Homepage = htt...\n",
       "    history:                   Fri Aug  7 17:57:38 2020: ncatted -a bounds,,d...</pre><div class='xr-wrap' hidden><div class='xr-header'><div class='xr-obj-type'>xarray.Dataset</div></div><ul class='xr-sections'><li class='xr-section-item'><input id='section-15afd890-f6ed-48e3-8dc5-a3d6956431b6' class='xr-section-summary-in' type='checkbox' disabled ><label for='section-15afd890-f6ed-48e3-8dc5-a3d6956431b6' class='xr-section-summary'  title='Expand/collapse section'>Dimensions:</label><div class='xr-section-inline-details'><ul class='xr-dim-list'><li><span class='xr-has-index'>time</span>: 36</li><li><span>x</span>: 275</li><li><span>y</span>: 205</li></ul></div><div class='xr-section-details'></div></li><li class='xr-section-item'><input id='section-b94413e6-b52a-467d-b6cd-d389aeb73f30' class='xr-section-summary-in' type='checkbox'  checked><label for='section-b94413e6-b52a-467d-b6cd-d389aeb73f30' class='xr-section-summary' >Coordinates: <span>(3)</span></label><div class='xr-section-inline-details'></div><div class='xr-section-details'><ul class='xr-var-list'><li class='xr-var-item'><div class='xr-var-name'><span class='xr-has-index'>time</span></div><div class='xr-var-dims'>(time)</div><div class='xr-var-dtype'>object</div><div class='xr-var-preview xr-preview'>1980-09-16 12:00:00 ... 1983-08-...</div><input id='attrs-1a5a357e-50a7-4e8f-8c9d-2df711fe3d89' class='xr-var-attrs-in' type='checkbox' ><label for='attrs-1a5a357e-50a7-4e8f-8c9d-2df711fe3d89' title='Show/Hide attributes'><svg class='icon xr-icon-file-text2'><use xlink:href='#icon-file-text2'></use></svg></label><input id='data-c238fda8-5b5a-4006-b5dc-ffaf4d095a6c' class='xr-var-data-in' type='checkbox'><label for='data-c238fda8-5b5a-4006-b5dc-ffaf4d095a6c' title='Show/Hide data repr'><svg class='icon xr-icon-database'><use xlink:href='#icon-database'></use></svg></label><div class='xr-var-attrs'><dl class='xr-attrs'><dt><span>long_name :</span></dt><dd>time</dd><dt><span>type_preferred :</span></dt><dd>int</dd></dl></div><div class='xr-var-data'><pre>array([cftime.DatetimeNoLeap(1980, 9, 16, 12, 0, 0, 0, has_year_zero=True),\n",
       "       cftime.DatetimeNoLeap(1980, 10, 17, 0, 0, 0, 0, has_year_zero=True),\n",
       "       cftime.DatetimeNoLeap(1980, 11, 16, 12, 0, 0, 0, has_year_zero=True),\n",
       "       cftime.DatetimeNoLeap(1980, 12, 17, 0, 0, 0, 0, has_year_zero=True),\n",
       "       cftime.DatetimeNoLeap(1981, 1, 17, 0, 0, 0, 0, has_year_zero=True),\n",
       "       cftime.DatetimeNoLeap(1981, 2, 15, 12, 0, 0, 0, has_year_zero=True),\n",
       "       cftime.DatetimeNoLeap(1981, 3, 17, 0, 0, 0, 0, has_year_zero=True),\n",
       "       cftime.DatetimeNoLeap(1981, 4, 16, 12, 0, 0, 0, has_year_zero=True),\n",
       "       cftime.DatetimeNoLeap(1981, 5, 17, 0, 0, 0, 0, has_year_zero=True),\n",
       "       cftime.DatetimeNoLeap(1981, 6, 16, 12, 0, 0, 0, has_year_zero=True),\n",
       "       cftime.DatetimeNoLeap(1981, 7, 17, 0, 0, 0, 0, has_year_zero=True),\n",
       "       cftime.DatetimeNoLeap(1981, 8, 17, 0, 0, 0, 0, has_year_zero=True),\n",
       "       cftime.DatetimeNoLeap(1981, 9, 16, 12, 0, 0, 0, has_year_zero=True),\n",
       "       cftime.DatetimeNoLeap(1981, 10, 17, 0, 0, 0, 0, has_year_zero=True),\n",
       "       cftime.DatetimeNoLeap(1981, 11, 16, 12, 0, 0, 0, has_year_zero=True),\n",
       "       cftime.DatetimeNoLeap(1981, 12, 17, 0, 0, 0, 0, has_year_zero=True),\n",
       "       cftime.DatetimeNoLeap(1982, 1, 17, 0, 0, 0, 0, has_year_zero=True),\n",
       "       cftime.DatetimeNoLeap(1982, 2, 15, 12, 0, 0, 0, has_year_zero=True),\n",
       "       cftime.DatetimeNoLeap(1982, 3, 17, 0, 0, 0, 0, has_year_zero=True),\n",
       "       cftime.DatetimeNoLeap(1982, 4, 16, 12, 0, 0, 0, has_year_zero=True),\n",
       "       cftime.DatetimeNoLeap(1982, 5, 17, 0, 0, 0, 0, has_year_zero=True),\n",
       "       cftime.DatetimeNoLeap(1982, 6, 16, 12, 0, 0, 0, has_year_zero=True),\n",
       "       cftime.DatetimeNoLeap(1982, 7, 17, 0, 0, 0, 0, has_year_zero=True),\n",
       "       cftime.DatetimeNoLeap(1982, 8, 17, 0, 0, 0, 0, has_year_zero=True),\n",
       "       cftime.DatetimeNoLeap(1982, 9, 16, 12, 0, 0, 0, has_year_zero=True),\n",
       "       cftime.DatetimeNoLeap(1982, 10, 17, 0, 0, 0, 0, has_year_zero=True),\n",
       "       cftime.DatetimeNoLeap(1982, 11, 16, 12, 0, 0, 0, has_year_zero=True),\n",
       "       cftime.DatetimeNoLeap(1982, 12, 17, 0, 0, 0, 0, has_year_zero=True),\n",
       "       cftime.DatetimeNoLeap(1983, 1, 17, 0, 0, 0, 0, has_year_zero=True),\n",
       "       cftime.DatetimeNoLeap(1983, 2, 15, 12, 0, 0, 0, has_year_zero=True),\n",
       "       cftime.DatetimeNoLeap(1983, 3, 17, 0, 0, 0, 0, has_year_zero=True),\n",
       "       cftime.DatetimeNoLeap(1983, 4, 16, 12, 0, 0, 0, has_year_zero=True),\n",
       "       cftime.DatetimeNoLeap(1983, 5, 17, 0, 0, 0, 0, has_year_zero=True),\n",
       "       cftime.DatetimeNoLeap(1983, 6, 16, 12, 0, 0, 0, has_year_zero=True),\n",
       "       cftime.DatetimeNoLeap(1983, 7, 17, 0, 0, 0, 0, has_year_zero=True),\n",
       "       cftime.DatetimeNoLeap(1983, 8, 17, 0, 0, 0, 0, has_year_zero=True)],\n",
       "      dtype=object)</pre></div></li><li class='xr-var-item'><div class='xr-var-name'><span>xc</span></div><div class='xr-var-dims'>(y, x)</div><div class='xr-var-dtype'>float64</div><div class='xr-var-preview xr-preview'>189.2 189.4 189.6 ... 17.15 16.91</div><input id='attrs-ac254b13-7410-46b0-809f-82cc98b23230' class='xr-var-attrs-in' type='checkbox' ><label for='attrs-ac254b13-7410-46b0-809f-82cc98b23230' title='Show/Hide attributes'><svg class='icon xr-icon-file-text2'><use xlink:href='#icon-file-text2'></use></svg></label><input id='data-0834c074-5eeb-40b2-8b3a-4a264c44efef' class='xr-var-data-in' type='checkbox'><label for='data-0834c074-5eeb-40b2-8b3a-4a264c44efef' title='Show/Hide data repr'><svg class='icon xr-icon-database'><use xlink:href='#icon-database'></use></svg></label><div class='xr-var-attrs'><dl class='xr-attrs'><dt><span>long_name :</span></dt><dd>longitude of grid cell center</dd><dt><span>units :</span></dt><dd>degrees_east</dd></dl></div><div class='xr-var-data'><pre>array([[189.22293223, 189.38990916, 189.55836619, ..., 293.77906088,\n",
       "        294.0279241 , 294.27439931],\n",
       "       [188.96836986, 189.13470591, 189.30253733, ..., 294.05584005,\n",
       "        294.30444387, 294.55065969],\n",
       "       [188.71234264, 188.87800731, 189.04515208, ..., 294.335053  ,\n",
       "        294.58337453, 294.8292928 ],\n",
       "       ...,\n",
       "       [124.04724025, 123.88362026, 123.71852016, ...,  16.83171831,\n",
       "         16.58436953,  16.33949649],\n",
       "       [123.78686428, 123.62254238, 123.45672512, ...,  17.11814486,\n",
       "         16.87043749,  16.62518298],\n",
       "       [123.52798366, 123.36295986, 123.1964407 , ...,  17.40209947,\n",
       "         17.1540526 ,  16.90845095]])</pre></div></li><li class='xr-var-item'><div class='xr-var-name'><span>yc</span></div><div class='xr-var-dims'>(y, x)</div><div class='xr-var-dtype'>float64</div><div class='xr-var-preview xr-preview'>16.53 16.78 17.02 ... 27.76 27.51</div><input id='attrs-5d713a9f-2ee3-443f-8535-0d1e7d0f0174' class='xr-var-attrs-in' type='checkbox' ><label for='attrs-5d713a9f-2ee3-443f-8535-0d1e7d0f0174' title='Show/Hide attributes'><svg class='icon xr-icon-file-text2'><use xlink:href='#icon-file-text2'></use></svg></label><input id='data-f00cf79a-342c-4fa3-8085-d4cacccabb98' class='xr-var-data-in' type='checkbox'><label for='data-f00cf79a-342c-4fa3-8085-d4cacccabb98' title='Show/Hide data repr'><svg class='icon xr-icon-database'><use xlink:href='#icon-database'></use></svg></label><div class='xr-var-attrs'><dl class='xr-attrs'><dt><span>long_name :</span></dt><dd>latitude of grid cell center</dd><dt><span>units :</span></dt><dd>degrees_north</dd></dl></div><div class='xr-var-data'><pre>array([[16.53498637, 16.7784556 , 17.02222429, ..., 27.36301592,\n",
       "        27.11811045, 26.87289026],\n",
       "       [16.69397341, 16.93865381, 17.18364512, ..., 27.5847719 ,\n",
       "        27.33821848, 27.0913656 ],\n",
       "       [16.85219179, 17.09808909, 17.34430872, ..., 27.80584314,\n",
       "        27.55764558, 27.30915621],\n",
       "       ...,\n",
       "       [17.31179033, 17.56124674, 17.81104646, ..., 28.4502485 ,\n",
       "        28.19718339, 27.94384744],\n",
       "       [17.15589701, 17.40414034, 17.65272318, ..., 28.23129632,\n",
       "        27.97989251, 27.72821596],\n",
       "       [16.99919497, 17.24622904, 17.49358736, ..., 28.01160028,\n",
       "        27.76185586, 27.51182726]])</pre></div></li></ul></div></li><li class='xr-section-item'><input id='section-419c39c1-b2e4-45d4-bdd0-e7fff31b4e75' class='xr-section-summary-in' type='checkbox'  checked><label for='section-419c39c1-b2e4-45d4-bdd0-e7fff31b4e75' class='xr-section-summary' >Data variables: <span>(1)</span></label><div class='xr-section-inline-details'></div><div class='xr-section-details'><ul class='xr-var-list'><li class='xr-var-item'><div class='xr-var-name'><span>Tair</span></div><div class='xr-var-dims'>(time, y, x)</div><div class='xr-var-dtype'>float64</div><div class='xr-var-preview xr-preview'>nan nan nan ... 28.66 28.19 28.21</div><input id='attrs-4667fadf-5f4b-4a49-adeb-fcfdf51905cf' class='xr-var-attrs-in' type='checkbox' ><label for='attrs-4667fadf-5f4b-4a49-adeb-fcfdf51905cf' title='Show/Hide attributes'><svg class='icon xr-icon-file-text2'><use xlink:href='#icon-file-text2'></use></svg></label><input id='data-4ea58b7a-36bb-4c50-a5f6-e60383a263e5' class='xr-var-data-in' type='checkbox'><label for='data-4ea58b7a-36bb-4c50-a5f6-e60383a263e5' title='Show/Hide data repr'><svg class='icon xr-icon-database'><use xlink:href='#icon-database'></use></svg></label><div class='xr-var-attrs'><dl class='xr-attrs'><dt><span>units :</span></dt><dd>C</dd><dt><span>long_name :</span></dt><dd>Surface air temperature</dd><dt><span>type_preferred :</span></dt><dd>double</dd><dt><span>time_rep :</span></dt><dd>instantaneous</dd></dl></div><div class='xr-var-data'><pre>array([[[        nan,         nan,         nan, ...,         nan,\n",
       "                 nan,         nan],\n",
       "        [        nan,         nan,         nan, ...,         nan,\n",
       "                 nan,         nan],\n",
       "        [        nan,         nan,         nan, ...,         nan,\n",
       "                 nan,         nan],\n",
       "        ...,\n",
       "        [        nan,         nan,         nan, ..., 27.03290153,\n",
       "         27.03125761, 27.33531541],\n",
       "        [        nan,         nan,         nan, ..., 27.2784053 ,\n",
       "         26.80261869, 27.08603517],\n",
       "        [        nan,         nan,         nan, ..., 27.02344402,\n",
       "         26.56473862, 26.73064933]],\n",
       "\n",
       "       [[        nan,         nan,         nan, ...,         nan,\n",
       "                 nan,         nan],\n",
       "        [        nan,         nan,         nan, ...,         nan,\n",
       "                 nan,         nan],\n",
       "        [        nan,         nan,         nan, ...,         nan,\n",
       "                 nan,         nan],\n",
       "...\n",
       "        [        nan,         nan,         nan, ..., 27.8597472 ,\n",
       "         27.82928439, 28.09249224],\n",
       "        [        nan,         nan,         nan, ..., 27.89704094,\n",
       "         27.31104941, 27.67387171],\n",
       "        [        nan,         nan,         nan, ..., 27.46837113,\n",
       "         27.0088944 , 27.23017976]],\n",
       "\n",
       "       [[        nan,         nan,         nan, ...,         nan,\n",
       "                 nan,         nan],\n",
       "        [        nan,         nan,         nan, ...,         nan,\n",
       "                 nan,         nan],\n",
       "        [        nan,         nan,         nan, ...,         nan,\n",
       "                 nan,         nan],\n",
       "        ...,\n",
       "        [        nan,         nan,         nan, ..., 28.95929072,\n",
       "         28.87672039, 29.04890862],\n",
       "        [        nan,         nan,         nan, ..., 29.036132  ,\n",
       "         28.42273578, 28.68721201],\n",
       "        [        nan,         nan,         nan, ..., 28.66381585,\n",
       "         28.18595533, 28.20753022]]])</pre></div></li></ul></div></li><li class='xr-section-item'><input id='section-7fd4725f-4017-44df-bcf5-675bdad36f2f' class='xr-section-summary-in' type='checkbox'  ><label for='section-7fd4725f-4017-44df-bcf5-675bdad36f2f' class='xr-section-summary' >Attributes: <span>(11)</span></label><div class='xr-section-inline-details'></div><div class='xr-section-details'><dl class='xr-attrs'><dt><span>title :</span></dt><dd>/workspace/jhamman/processed/R1002RBRxaaa01a/lnd/temp/R1002RBRxaaa01a.vic.ha.1979-09-01.nc</dd><dt><span>institution :</span></dt><dd>U.W.</dd><dt><span>source :</span></dt><dd>RACM R1002RBRxaaa01a</dd><dt><span>output_frequency :</span></dt><dd>daily</dd><dt><span>output_mode :</span></dt><dd>averaged</dd><dt><span>convention :</span></dt><dd>CF-1.4</dd><dt><span>references :</span></dt><dd>Based on the initial model of Liang et al., 1994, JGR, 99, 14,415- 14,429.</dd><dt><span>comment :</span></dt><dd>Output from the Variable Infiltration Capacity (VIC) model.</dd><dt><span>nco_openmp_thread_number :</span></dt><dd>1</dd><dt><span>NCO :</span></dt><dd>netCDF Operators version 4.7.9 (Homepage = http://nco.sf.net, Code = http://github.com/nco/nco)</dd><dt><span>history :</span></dt><dd>Fri Aug  7 17:57:38 2020: ncatted -a bounds,,d,, rasm.nc\n",
       "Tue Dec 27 14:15:22 2016: ncatted -a dimensions,,d,, rasm.nc rasm.nc\n",
       "Tue Dec 27 13:38:40 2016: ncks -3 rasm.nc rasm.nc\n",
       "history deleted for brevity</dd></dl></div></li></ul></div></div>"
      ],
      "text/plain": [
       "<xarray.Dataset>\n",
       "Dimensions:  (time: 36, x: 275, y: 205)\n",
       "Coordinates:\n",
       "  * time     (time) object 1980-09-16 12:00:00 ... 1983-08-17 00:00:00\n",
       "    xc       (y, x) float64 189.2 189.4 189.6 189.7 ... 17.65 17.4 17.15 16.91\n",
       "    yc       (y, x) float64 16.53 16.78 17.02 17.27 ... 28.26 28.01 27.76 27.51\n",
       "Dimensions without coordinates: x, y\n",
       "Data variables:\n",
       "    Tair     (time, y, x) float64 nan nan nan nan nan ... 29.8 28.66 28.19 28.21\n",
       "Attributes:\n",
       "    title:                     /workspace/jhamman/processed/R1002RBRxaaa01a/l...\n",
       "    institution:               U.W.\n",
       "    source:                    RACM R1002RBRxaaa01a\n",
       "    output_frequency:          daily\n",
       "    output_mode:               averaged\n",
       "    convention:                CF-1.4\n",
       "    references:                Based on the initial model of Liang et al., 19...\n",
       "    comment:                   Output from the Variable Infiltration Capacity...\n",
       "    nco_openmp_thread_number:  1\n",
       "    NCO:                       netCDF Operators version 4.7.9 (Homepage = htt...\n",
       "    history:                   Fri Aug  7 17:57:38 2020: ncatted -a bounds,,d..."
      ]
     },
     "execution_count": 51,
     "metadata": {},
     "output_type": "execute_result"
    }
   ],
   "source": [
    "import xarray as xr\n",
    "\n",
    "xr.tutorial.open_dataset('rasm').load()"
   ]
  },
  {
   "cell_type": "markdown",
   "id": "ec61ca7d-2082-4a1d-ac06-61e78784e370",
   "metadata": {},
   "source": [
    "Again, we're only scratching the surface of these capabilities here - you can read more in the IPython docs and in the [IPython in depth tutorial](https://github.com/ipython/ipython-in-depth), particularly in the notebooks that illustrate the [rich output](https://nbviewer.jupyter.org/github/ipython/ipython-in-depth/blob/master/examples/IPython%20Kernel/Rich%20Output.ipynb) and [custom display logic](https://nbviewer.jupyter.org/github/ipython/ipython-in-depth/blob/master/examples/IPython%20Kernel/Custom%20Display%20Logic.ipynb) that powers these capabilities."
   ]
  }
 ],
 "metadata": {
  "kernelspec": {
   "display_name": "Python 3",
   "language": "python",
   "name": "python3"
  },
  "language_info": {
   "codemirror_mode": {
    "name": "ipython",
    "version": 3
   },
   "file_extension": ".py",
   "mimetype": "text/x-python",
   "name": "python",
   "nbconvert_exporter": "python",
   "pygments_lexer": "ipython3",
   "version": "3.9.4"
  }
 },
 "nbformat": 4,
 "nbformat_minor": 5
}

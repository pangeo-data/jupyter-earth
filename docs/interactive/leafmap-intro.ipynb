{
 "cells": [
  {
   "cell_type": "markdown",
   "id": "df721aeb-1761-44a2-9bb9-eb878ab5c087",
   "metadata": {},
   "source": [
    "# An absolutely minimal illustration of leafmap\n",
    "\n",
    "This code is taken from the documentation of the [leafmap package](https://leafmap.org) by [Qiusheng Wu from UT Knoxville](https://wetlands.io). Leafmap uses Jupyter Widgets, ipyleaflet and WhiteBoxTools to provide what is effectively a mini-GIS system accessible as a library within the Jupyter environment. Here we only illustrate the most basic use to showcase the power of the system, we encourage you to go to the complete set of documentation and video tutorials available on the project site."
   ]
  },
  {
   "cell_type": "code",
   "execution_count": 6,
   "id": "a6660de6-21ed-427c-a601-e3cbb073d55d",
   "metadata": {},
   "outputs": [],
   "source": [
    "import leafmap"
   ]
  },
  {
   "cell_type": "code",
   "execution_count": 7,
   "id": "b9a44bd7-db4d-4627-b1e8-7a485afead6b",
   "metadata": {},
   "outputs": [
    {
     "data": {
      "application/vnd.jupyter.widget-view+json": {
       "model_id": "a40c46a7f0ca48398e00134e6e92eb8e",
       "version_major": 2,
       "version_minor": 0
      },
      "text/plain": [
       "Map(center=[40, -100], controls=(ZoomControl(options=['position', 'zoom_in_text', 'zoom_in_title', 'zoom_out_t…"
      ]
     },
     "metadata": {},
     "output_type": "display_data"
    }
   ],
   "source": [
    "m = leafmap.Map(google_map=\"HYBRID\")\n",
    "\n",
    "url1 = \"https://www.fws.gov/wetlands/arcgis/services/Wetlands/MapServer/WMSServer?\"\n",
    "m.add_wms_layer(url1, layers=\"1\",format='image/png', transparent=True, name=\"NWI Wetlands Vector\")\n",
    "\n",
    "url2 = \"https://www.fws.gov/wetlands/arcgis/services/Wetlands_Raster/ImageServer/WMSServer?\"\n",
    "m.add_wms_layer(url2, layers=\"0\",format='image/png', transparent=True, name=\"NWI Wetlands Raster\")\n",
    "\n",
    "m.add_legend(builtin_legend=\"NWI\")\n",
    "m"
   ]
  },
  {
   "cell_type": "code",
   "execution_count": 8,
   "id": "3561d3c3-ec22-4a64-a7ff-12c777671582",
   "metadata": {},
   "outputs": [
    {
     "data": {
      "application/vnd.jupyter.widget-view+json": {
       "model_id": "42e903125c94464bb428911d4a53effa",
       "version_major": 2,
       "version_minor": 0
      },
      "text/plain": [
       "HBox(children=(VBox(children=(Select(layout=Layout(height='165px', width='170px'), options=('All Tools', 'Data…"
      ]
     },
     "metadata": {},
     "output_type": "display_data"
    }
   ],
   "source": [
    "import whiteboxgui\n",
    "whiteboxgui.show()"
   ]
  },
  {
   "cell_type": "code",
   "execution_count": null,
   "id": "4386f981-361a-4403-a7b4-2b11198a1136",
   "metadata": {},
   "outputs": [],
   "source": []
  }
 ],
 "metadata": {
  "kernelspec": {
   "display_name": "Python 3",
   "language": "python",
   "name": "python3"
  },
  "language_info": {
   "codemirror_mode": {
    "name": "ipython",
    "version": 3
   },
   "file_extension": ".py",
   "mimetype": "text/x-python",
   "name": "python",
   "nbconvert_exporter": "python",
   "pygments_lexer": "ipython3",
   "version": "3.9.4"
  }
 },
 "nbformat": 4,
 "nbformat_minor": 5
}
